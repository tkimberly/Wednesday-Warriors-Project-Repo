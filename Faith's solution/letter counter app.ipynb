{
 "cells": [
  {
   "cell_type": "markdown",
   "id": "d3cec586",
   "metadata": {},
   "source": [
    "# basic data types\n",
    "## challange 1\n",
    "### letter counter"
   ]
  },
  {
   "cell_type": "code",
   "execution_count": 75,
   "id": "f99eb2e9",
   "metadata": {
    "scrolled": true
   },
   "outputs": [
    {
     "name": "stdout",
     "output_type": "stream",
     "text": [
      "welcome  to the Letter Counter App😊\n",
      "What is your name? faith\n",
      "hello 👋Faith!\n",
      "i will count the number of times that a specific letter occurs in a message\n",
      "please enter a message : bebB\n",
      "which letter would like to count occurances of :b\n",
      "faith,Your message has 3 's in it.\n"
     ]
    }
   ],
   "source": [
    "print(\"welcome  to the Letter Counter App😊\")\n",
    "name=input(\"What is your name? \")\n",
    "Capitaliziedname=name.capitalize()\n",
    "print(\"hello 👋\"+Capitaliziedname+ \"!\")\n",
    "print(\"i will count the number of times that a specific letter occurs in a message\")\n",
    "OnYourMind= (input(\"please enter a message : \"))\n",
    "lowercased=OnYourMind.casefold()\n",
    "OutPutLetter =(input(\"which letter would like to count occurances of :\"))\n",
    "x=str((lowercased.count(OutPutLetter)))\n",
    "print(name + \",Your message has \"+ x +\" \\'s in it.\")    \n"
   ]
  },
  {
   "cell_type": "code",
   "execution_count": null,
   "id": "7e92379a",
   "metadata": {},
   "outputs": [],
   "source": []
  },
  {
   "cell_type": "code",
   "execution_count": null,
   "id": "d2f6612f",
   "metadata": {},
   "outputs": [],
   "source": []
  }
 ],
 "metadata": {
  "kernelspec": {
   "display_name": "Python 3 (ipykernel)",
   "language": "python",
   "name": "python3"
  },
  "language_info": {
   "codemirror_mode": {
    "name": "ipython",
    "version": 3
   },
   "file_extension": ".py",
   "mimetype": "text/x-python",
   "name": "python",
   "nbconvert_exporter": "python",
   "pygments_lexer": "ipython3",
   "version": "3.11.3"
  }
 },
 "nbformat": 4,
 "nbformat_minor": 5
}
