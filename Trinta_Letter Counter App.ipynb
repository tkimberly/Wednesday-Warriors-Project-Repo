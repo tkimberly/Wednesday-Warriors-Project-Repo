{
 "cells": [
  {
   "cell_type": "markdown",
   "id": "f5aeddc2",
   "metadata": {},
   "source": [
    "#### You are responsible for writing a program that will get a message and a specific letter from a\n",
    "#### user and then count the number of occurrences of that letter in the given message. You\n",
    "#### program should count “H” and “h” as an occurence of h. Your program will then display a\n",
    "#### message to the user stating the occurrences of the given letter."
   ]
  },
  {
   "cell_type": "code",
   "execution_count": 8,
   "id": "9fffa9d0",
   "metadata": {},
   "outputs": [
    {
     "name": "stdout",
     "output_type": "stream",
     "text": [
      "What is your name? emma\n",
      "\n",
      "Hello Emma,I will count the number of times that a specific letter occurs in a message\n",
      "Please enter a message: Hello, how are you doing today? I hope that you have a happy holiday!\n",
      "\n",
      "Which letter would you like to count the occurrences of: h\n",
      "Emma, your message has 7 h's in it\n"
     ]
    }
   ],
   "source": [
    "name = input('What is your name? ').title()\n",
    "print('')\n",
    "print(f'Hello {name},I will count the number of times that a specific letter occurs in a message')\n",
    "message = input('Please enter a message: ').lower()\n",
    "print('')\n",
    "letter = input('Which letter would you like to count the occurrences of: ').lower()\n",
    "\n",
    "letter_count=0\n",
    "\n",
    "for i in message:\n",
    "    if i==letter:\n",
    "        letter_count+=1\n",
    "\n",
    "print(f\"{name}, your message has {letter_count} {letter}'s in it\")\n",
    "        "
   ]
  },
  {
   "cell_type": "code",
   "execution_count": null,
   "id": "7f0a6b91",
   "metadata": {},
   "outputs": [],
   "source": []
  }
 ],
 "metadata": {
  "kernelspec": {
   "display_name": "Python 3 (ipykernel)",
   "language": "python",
   "name": "python3"
  },
  "language_info": {
   "codemirror_mode": {
    "name": "ipython",
    "version": 3
   },
   "file_extension": ".py",
   "mimetype": "text/x-python",
   "name": "python",
   "nbconvert_exporter": "python",
   "pygments_lexer": "ipython3",
   "version": "3.10.9"
  }
 },
 "nbformat": 4,
 "nbformat_minor": 5
}
