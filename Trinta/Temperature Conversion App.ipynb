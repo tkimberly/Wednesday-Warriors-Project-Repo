{
 "cells": [
  {
   "cell_type": "markdown",
   "id": "7433b6e8",
   "metadata": {},
   "source": [
    "#### You are responsible for writing a program that will convert a given temperature in degrees\n",
    "#### Fahrenheit to degrees Celsius and degrees Kelvin. Your program will round all conversions to a\n",
    "#### precision of four decimal places. Lastly, your program will display the results in a convenient\n",
    "#### table style format"
   ]
  },
  {
   "cell_type": "code",
   "execution_count": 21,
   "id": "160d907e",
   "metadata": {},
   "outputs": [
    {
     "name": "stdout",
     "output_type": "stream",
     "text": [
      "What is the given temperature in degrees Fahrenheit: 212.52\n",
      "\n",
      "Degrees Fahrenheit:\t212.52\n",
      "Degrees Celcius:\t100.2889\n",
      "Degrees Kelvin:\t\t373.4389\n"
     ]
    }
   ],
   "source": [
    "Fahrenheit = float(input('What is the given temperature in degrees Fahrenheit: '))\n",
    "print('')\n",
    "Celcius = (Fahrenheit - 32) * (5/9)\n",
    "Kelvin = (Fahrenheit - 32) * (5/9) + 273.15\n",
    "\n",
    "print(f'Degrees Fahrenheit:\\t{Fahrenheit}')\n",
    "print(f'Degrees Celcius:\\t{round(Celcius,4)}')\n",
    "print(f'Degrees Kelvin:\\t\\t{round(Kelvin,4)}')\n"
   ]
  },
  {
   "cell_type": "code",
   "execution_count": null,
   "id": "16d89647",
   "metadata": {},
   "outputs": [],
   "source": []
  }
 ],
 "metadata": {
  "kernelspec": {
   "display_name": "Python 3 (ipykernel)",
   "language": "python",
   "name": "python3"
  },
  "language_info": {
   "codemirror_mode": {
    "name": "ipython",
    "version": 3
   },
   "file_extension": ".py",
   "mimetype": "text/x-python",
   "name": "python",
   "nbconvert_exporter": "python",
   "pygments_lexer": "ipython3",
   "version": "3.10.9"
  }
 },
 "nbformat": 4,
 "nbformat_minor": 5
}
