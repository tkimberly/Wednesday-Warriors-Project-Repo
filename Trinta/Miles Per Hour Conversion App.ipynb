{
 "cells": [
  {
   "cell_type": "markdown",
   "id": "094a6122",
   "metadata": {},
   "source": [
    "#### You are responsible for writing a program that will convert any given speed in miles per hour to\n",
    "#### a more metric friendly unit of meters per second. All calculations should be rounded to a set\n",
    "#### decimal precision of 2 decimal places."
   ]
  },
  {
   "cell_type": "code",
   "execution_count": 13,
   "id": "7e4e4c2a",
   "metadata": {},
   "outputs": [
    {
     "name": "stdout",
     "output_type": "stream",
     "text": [
      "What is your speed in miles per hour: 55.8\n",
      "Your speed in meters per second is 24.96\n"
     ]
    }
   ],
   "source": [
    "speed = float(input('What is your speed in miles per hour: '))\n",
    "meter_per_second = speed * 0.4474\n",
    "print(f'Your speed in meters per second is {round(meter_per_second,2)}')"
   ]
  },
  {
   "cell_type": "code",
   "execution_count": null,
   "id": "d372ece6",
   "metadata": {},
   "outputs": [],
   "source": []
  }
 ],
 "metadata": {
  "kernelspec": {
   "display_name": "Python 3 (ipykernel)",
   "language": "python",
   "name": "python3"
  },
  "language_info": {
   "codemirror_mode": {
    "name": "ipython",
    "version": 3
   },
   "file_extension": ".py",
   "mimetype": "text/x-python",
   "name": "python",
   "nbconvert_exporter": "python",
   "pygments_lexer": "ipython3",
   "version": "3.10.9"
  }
 },
 "nbformat": 4,
 "nbformat_minor": 5
}
